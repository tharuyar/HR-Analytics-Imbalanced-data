{
 "cells": [
  {
   "cell_type": "code",
   "execution_count": 1,
   "id": "0e410f44",
   "metadata": {},
   "outputs": [],
   "source": [
    "import pandas as pd\n",
    "import numpy as np\n",
    "import matplotlib.pyplot as plt\n",
    "%matplotlib inline"
   ]
  },
  {
   "cell_type": "code",
   "execution_count": 2,
   "id": "75af7c33",
   "metadata": {},
   "outputs": [
    {
     "name": "stdout",
     "output_type": "stream",
     "text": [
      "C:\\Users\\Tharun\\OneDrive\\Desktop\\python notes\\hr analytics\n"
     ]
    }
   ],
   "source": [
    "import io\n",
    "%cd \"C:\\Users\\Tharun\\OneDrive\\Desktop\\python notes\\hr analytics\""
   ]
  },
  {
   "cell_type": "code",
   "execution_count": 4,
   "id": "18669511",
   "metadata": {},
   "outputs": [],
   "source": [
    "hrtrain=pd.read_csv(\"hrtrain.csv\")"
   ]
  },
  {
   "cell_type": "code",
   "execution_count": 5,
   "id": "9e92c917",
   "metadata": {},
   "outputs": [],
   "source": [
    "hrtest=pd.read_csv('hrtest.csv')"
   ]
  },
  {
   "cell_type": "code",
   "execution_count": 6,
   "id": "285cb078",
   "metadata": {},
   "outputs": [
    {
     "data": {
      "text/html": [
       "<div>\n",
       "<style scoped>\n",
       "    .dataframe tbody tr th:only-of-type {\n",
       "        vertical-align: middle;\n",
       "    }\n",
       "\n",
       "    .dataframe tbody tr th {\n",
       "        vertical-align: top;\n",
       "    }\n",
       "\n",
       "    .dataframe thead th {\n",
       "        text-align: right;\n",
       "    }\n",
       "</style>\n",
       "<table border=\"1\" class=\"dataframe\">\n",
       "  <thead>\n",
       "    <tr style=\"text-align: right;\">\n",
       "      <th></th>\n",
       "      <th>employee_id</th>\n",
       "      <th>department</th>\n",
       "      <th>region</th>\n",
       "      <th>education</th>\n",
       "      <th>gender</th>\n",
       "      <th>recruitment_channel</th>\n",
       "      <th>no_of_trainings</th>\n",
       "      <th>age</th>\n",
       "      <th>previous_year_rating</th>\n",
       "      <th>length_of_service</th>\n",
       "      <th>KPIs_met &gt;80%</th>\n",
       "      <th>awards_won?</th>\n",
       "      <th>avg_training_score</th>\n",
       "      <th>is_promoted</th>\n",
       "    </tr>\n",
       "  </thead>\n",
       "  <tbody>\n",
       "    <tr>\n",
       "      <th>0</th>\n",
       "      <td>65438</td>\n",
       "      <td>Sales &amp; Marketing</td>\n",
       "      <td>region_7</td>\n",
       "      <td>Master's &amp; above</td>\n",
       "      <td>f</td>\n",
       "      <td>sourcing</td>\n",
       "      <td>1</td>\n",
       "      <td>35</td>\n",
       "      <td>5.0</td>\n",
       "      <td>8</td>\n",
       "      <td>1</td>\n",
       "      <td>0</td>\n",
       "      <td>49</td>\n",
       "      <td>0</td>\n",
       "    </tr>\n",
       "    <tr>\n",
       "      <th>1</th>\n",
       "      <td>65141</td>\n",
       "      <td>Operations</td>\n",
       "      <td>region_22</td>\n",
       "      <td>Bachelor's</td>\n",
       "      <td>m</td>\n",
       "      <td>other</td>\n",
       "      <td>1</td>\n",
       "      <td>30</td>\n",
       "      <td>5.0</td>\n",
       "      <td>4</td>\n",
       "      <td>0</td>\n",
       "      <td>0</td>\n",
       "      <td>60</td>\n",
       "      <td>0</td>\n",
       "    </tr>\n",
       "    <tr>\n",
       "      <th>2</th>\n",
       "      <td>7513</td>\n",
       "      <td>Sales &amp; Marketing</td>\n",
       "      <td>region_19</td>\n",
       "      <td>Bachelor's</td>\n",
       "      <td>m</td>\n",
       "      <td>sourcing</td>\n",
       "      <td>1</td>\n",
       "      <td>34</td>\n",
       "      <td>3.0</td>\n",
       "      <td>7</td>\n",
       "      <td>0</td>\n",
       "      <td>0</td>\n",
       "      <td>50</td>\n",
       "      <td>0</td>\n",
       "    </tr>\n",
       "    <tr>\n",
       "      <th>3</th>\n",
       "      <td>2542</td>\n",
       "      <td>Sales &amp; Marketing</td>\n",
       "      <td>region_23</td>\n",
       "      <td>Bachelor's</td>\n",
       "      <td>m</td>\n",
       "      <td>other</td>\n",
       "      <td>2</td>\n",
       "      <td>39</td>\n",
       "      <td>1.0</td>\n",
       "      <td>10</td>\n",
       "      <td>0</td>\n",
       "      <td>0</td>\n",
       "      <td>50</td>\n",
       "      <td>0</td>\n",
       "    </tr>\n",
       "    <tr>\n",
       "      <th>4</th>\n",
       "      <td>48945</td>\n",
       "      <td>Technology</td>\n",
       "      <td>region_26</td>\n",
       "      <td>Bachelor's</td>\n",
       "      <td>m</td>\n",
       "      <td>other</td>\n",
       "      <td>1</td>\n",
       "      <td>45</td>\n",
       "      <td>3.0</td>\n",
       "      <td>2</td>\n",
       "      <td>0</td>\n",
       "      <td>0</td>\n",
       "      <td>73</td>\n",
       "      <td>0</td>\n",
       "    </tr>\n",
       "  </tbody>\n",
       "</table>\n",
       "</div>"
      ],
      "text/plain": [
       "   employee_id         department     region         education gender  \\\n",
       "0        65438  Sales & Marketing   region_7  Master's & above      f   \n",
       "1        65141         Operations  region_22        Bachelor's      m   \n",
       "2         7513  Sales & Marketing  region_19        Bachelor's      m   \n",
       "3         2542  Sales & Marketing  region_23        Bachelor's      m   \n",
       "4        48945         Technology  region_26        Bachelor's      m   \n",
       "\n",
       "  recruitment_channel  no_of_trainings  age  previous_year_rating  \\\n",
       "0            sourcing                1   35                   5.0   \n",
       "1               other                1   30                   5.0   \n",
       "2            sourcing                1   34                   3.0   \n",
       "3               other                2   39                   1.0   \n",
       "4               other                1   45                   3.0   \n",
       "\n",
       "   length_of_service  KPIs_met >80%  awards_won?  avg_training_score  \\\n",
       "0                  8              1            0                  49   \n",
       "1                  4              0            0                  60   \n",
       "2                  7              0            0                  50   \n",
       "3                 10              0            0                  50   \n",
       "4                  2              0            0                  73   \n",
       "\n",
       "   is_promoted  \n",
       "0            0  \n",
       "1            0  \n",
       "2            0  \n",
       "3            0  \n",
       "4            0  "
      ]
     },
     "execution_count": 6,
     "metadata": {},
     "output_type": "execute_result"
    }
   ],
   "source": [
    "hrtrain.head()"
   ]
  },
  {
   "cell_type": "code",
   "execution_count": 7,
   "id": "984320f5",
   "metadata": {},
   "outputs": [
    {
     "data": {
      "text/html": [
       "<div>\n",
       "<style scoped>\n",
       "    .dataframe tbody tr th:only-of-type {\n",
       "        vertical-align: middle;\n",
       "    }\n",
       "\n",
       "    .dataframe tbody tr th {\n",
       "        vertical-align: top;\n",
       "    }\n",
       "\n",
       "    .dataframe thead th {\n",
       "        text-align: right;\n",
       "    }\n",
       "</style>\n",
       "<table border=\"1\" class=\"dataframe\">\n",
       "  <thead>\n",
       "    <tr style=\"text-align: right;\">\n",
       "      <th></th>\n",
       "      <th>employee_id</th>\n",
       "      <th>department</th>\n",
       "      <th>region</th>\n",
       "      <th>education</th>\n",
       "      <th>gender</th>\n",
       "      <th>recruitment_channel</th>\n",
       "      <th>no_of_trainings</th>\n",
       "      <th>age</th>\n",
       "      <th>previous_year_rating</th>\n",
       "      <th>length_of_service</th>\n",
       "      <th>KPIs_met &gt;80%</th>\n",
       "      <th>awards_won?</th>\n",
       "      <th>avg_training_score</th>\n",
       "    </tr>\n",
       "  </thead>\n",
       "  <tbody>\n",
       "    <tr>\n",
       "      <th>0</th>\n",
       "      <td>8724</td>\n",
       "      <td>Technology</td>\n",
       "      <td>region_26</td>\n",
       "      <td>Bachelor's</td>\n",
       "      <td>m</td>\n",
       "      <td>sourcing</td>\n",
       "      <td>1</td>\n",
       "      <td>24</td>\n",
       "      <td>NaN</td>\n",
       "      <td>1</td>\n",
       "      <td>1</td>\n",
       "      <td>0</td>\n",
       "      <td>77</td>\n",
       "    </tr>\n",
       "    <tr>\n",
       "      <th>1</th>\n",
       "      <td>74430</td>\n",
       "      <td>HR</td>\n",
       "      <td>region_4</td>\n",
       "      <td>Bachelor's</td>\n",
       "      <td>f</td>\n",
       "      <td>other</td>\n",
       "      <td>1</td>\n",
       "      <td>31</td>\n",
       "      <td>3.0</td>\n",
       "      <td>5</td>\n",
       "      <td>0</td>\n",
       "      <td>0</td>\n",
       "      <td>51</td>\n",
       "    </tr>\n",
       "    <tr>\n",
       "      <th>2</th>\n",
       "      <td>72255</td>\n",
       "      <td>Sales &amp; Marketing</td>\n",
       "      <td>region_13</td>\n",
       "      <td>Bachelor's</td>\n",
       "      <td>m</td>\n",
       "      <td>other</td>\n",
       "      <td>1</td>\n",
       "      <td>31</td>\n",
       "      <td>1.0</td>\n",
       "      <td>4</td>\n",
       "      <td>0</td>\n",
       "      <td>0</td>\n",
       "      <td>47</td>\n",
       "    </tr>\n",
       "    <tr>\n",
       "      <th>3</th>\n",
       "      <td>38562</td>\n",
       "      <td>Procurement</td>\n",
       "      <td>region_2</td>\n",
       "      <td>Bachelor's</td>\n",
       "      <td>f</td>\n",
       "      <td>other</td>\n",
       "      <td>3</td>\n",
       "      <td>31</td>\n",
       "      <td>2.0</td>\n",
       "      <td>9</td>\n",
       "      <td>0</td>\n",
       "      <td>0</td>\n",
       "      <td>65</td>\n",
       "    </tr>\n",
       "    <tr>\n",
       "      <th>4</th>\n",
       "      <td>64486</td>\n",
       "      <td>Finance</td>\n",
       "      <td>region_29</td>\n",
       "      <td>Bachelor's</td>\n",
       "      <td>m</td>\n",
       "      <td>sourcing</td>\n",
       "      <td>1</td>\n",
       "      <td>30</td>\n",
       "      <td>4.0</td>\n",
       "      <td>7</td>\n",
       "      <td>0</td>\n",
       "      <td>0</td>\n",
       "      <td>61</td>\n",
       "    </tr>\n",
       "  </tbody>\n",
       "</table>\n",
       "</div>"
      ],
      "text/plain": [
       "   employee_id         department     region   education gender  \\\n",
       "0         8724         Technology  region_26  Bachelor's      m   \n",
       "1        74430                 HR   region_4  Bachelor's      f   \n",
       "2        72255  Sales & Marketing  region_13  Bachelor's      m   \n",
       "3        38562        Procurement   region_2  Bachelor's      f   \n",
       "4        64486            Finance  region_29  Bachelor's      m   \n",
       "\n",
       "  recruitment_channel  no_of_trainings  age  previous_year_rating  \\\n",
       "0            sourcing                1   24                   NaN   \n",
       "1               other                1   31                   3.0   \n",
       "2               other                1   31                   1.0   \n",
       "3               other                3   31                   2.0   \n",
       "4            sourcing                1   30                   4.0   \n",
       "\n",
       "   length_of_service  KPIs_met >80%  awards_won?  avg_training_score  \n",
       "0                  1              1            0                  77  \n",
       "1                  5              0            0                  51  \n",
       "2                  4              0            0                  47  \n",
       "3                  9              0            0                  65  \n",
       "4                  7              0            0                  61  "
      ]
     },
     "execution_count": 7,
     "metadata": {},
     "output_type": "execute_result"
    }
   ],
   "source": [
    "hrtest.head()"
   ]
  },
  {
   "cell_type": "markdown",
   "id": "ea8227a1",
   "metadata": {},
   "source": [
    "# Combining both train and test data for data processing\n"
   ]
  },
  {
   "cell_type": "code",
   "execution_count": 10,
   "id": "8645112e",
   "metadata": {},
   "outputs": [],
   "source": [
    "hrtest['is_promoted']='test'"
   ]
  },
  {
   "cell_type": "code",
   "execution_count": 11,
   "id": "a1237c37",
   "metadata": {},
   "outputs": [],
   "source": [
    "combindedhr=pd.concat([hrtrain,hrtest],axis=0)"
   ]
  },
  {
   "cell_type": "code",
   "execution_count": 12,
   "id": "55be754a",
   "metadata": {},
   "outputs": [
    {
     "data": {
      "text/html": [
       "<div>\n",
       "<style scoped>\n",
       "    .dataframe tbody tr th:only-of-type {\n",
       "        vertical-align: middle;\n",
       "    }\n",
       "\n",
       "    .dataframe tbody tr th {\n",
       "        vertical-align: top;\n",
       "    }\n",
       "\n",
       "    .dataframe thead th {\n",
       "        text-align: right;\n",
       "    }\n",
       "</style>\n",
       "<table border=\"1\" class=\"dataframe\">\n",
       "  <thead>\n",
       "    <tr style=\"text-align: right;\">\n",
       "      <th></th>\n",
       "      <th>employee_id</th>\n",
       "      <th>department</th>\n",
       "      <th>region</th>\n",
       "      <th>education</th>\n",
       "      <th>gender</th>\n",
       "      <th>recruitment_channel</th>\n",
       "      <th>no_of_trainings</th>\n",
       "      <th>age</th>\n",
       "      <th>previous_year_rating</th>\n",
       "      <th>length_of_service</th>\n",
       "      <th>KPIs_met &gt;80%</th>\n",
       "      <th>awards_won?</th>\n",
       "      <th>avg_training_score</th>\n",
       "      <th>is_promoted</th>\n",
       "    </tr>\n",
       "  </thead>\n",
       "  <tbody>\n",
       "    <tr>\n",
       "      <th>0</th>\n",
       "      <td>65438</td>\n",
       "      <td>Sales &amp; Marketing</td>\n",
       "      <td>region_7</td>\n",
       "      <td>Master's &amp; above</td>\n",
       "      <td>f</td>\n",
       "      <td>sourcing</td>\n",
       "      <td>1</td>\n",
       "      <td>35</td>\n",
       "      <td>5.0</td>\n",
       "      <td>8</td>\n",
       "      <td>1</td>\n",
       "      <td>0</td>\n",
       "      <td>49</td>\n",
       "      <td>0</td>\n",
       "    </tr>\n",
       "    <tr>\n",
       "      <th>1</th>\n",
       "      <td>65141</td>\n",
       "      <td>Operations</td>\n",
       "      <td>region_22</td>\n",
       "      <td>Bachelor's</td>\n",
       "      <td>m</td>\n",
       "      <td>other</td>\n",
       "      <td>1</td>\n",
       "      <td>30</td>\n",
       "      <td>5.0</td>\n",
       "      <td>4</td>\n",
       "      <td>0</td>\n",
       "      <td>0</td>\n",
       "      <td>60</td>\n",
       "      <td>0</td>\n",
       "    </tr>\n",
       "    <tr>\n",
       "      <th>2</th>\n",
       "      <td>7513</td>\n",
       "      <td>Sales &amp; Marketing</td>\n",
       "      <td>region_19</td>\n",
       "      <td>Bachelor's</td>\n",
       "      <td>m</td>\n",
       "      <td>sourcing</td>\n",
       "      <td>1</td>\n",
       "      <td>34</td>\n",
       "      <td>3.0</td>\n",
       "      <td>7</td>\n",
       "      <td>0</td>\n",
       "      <td>0</td>\n",
       "      <td>50</td>\n",
       "      <td>0</td>\n",
       "    </tr>\n",
       "    <tr>\n",
       "      <th>3</th>\n",
       "      <td>2542</td>\n",
       "      <td>Sales &amp; Marketing</td>\n",
       "      <td>region_23</td>\n",
       "      <td>Bachelor's</td>\n",
       "      <td>m</td>\n",
       "      <td>other</td>\n",
       "      <td>2</td>\n",
       "      <td>39</td>\n",
       "      <td>1.0</td>\n",
       "      <td>10</td>\n",
       "      <td>0</td>\n",
       "      <td>0</td>\n",
       "      <td>50</td>\n",
       "      <td>0</td>\n",
       "    </tr>\n",
       "    <tr>\n",
       "      <th>4</th>\n",
       "      <td>48945</td>\n",
       "      <td>Technology</td>\n",
       "      <td>region_26</td>\n",
       "      <td>Bachelor's</td>\n",
       "      <td>m</td>\n",
       "      <td>other</td>\n",
       "      <td>1</td>\n",
       "      <td>45</td>\n",
       "      <td>3.0</td>\n",
       "      <td>2</td>\n",
       "      <td>0</td>\n",
       "      <td>0</td>\n",
       "      <td>73</td>\n",
       "      <td>0</td>\n",
       "    </tr>\n",
       "    <tr>\n",
       "      <th>...</th>\n",
       "      <td>...</td>\n",
       "      <td>...</td>\n",
       "      <td>...</td>\n",
       "      <td>...</td>\n",
       "      <td>...</td>\n",
       "      <td>...</td>\n",
       "      <td>...</td>\n",
       "      <td>...</td>\n",
       "      <td>...</td>\n",
       "      <td>...</td>\n",
       "      <td>...</td>\n",
       "      <td>...</td>\n",
       "      <td>...</td>\n",
       "      <td>...</td>\n",
       "    </tr>\n",
       "    <tr>\n",
       "      <th>23485</th>\n",
       "      <td>53478</td>\n",
       "      <td>Legal</td>\n",
       "      <td>region_2</td>\n",
       "      <td>Below Secondary</td>\n",
       "      <td>m</td>\n",
       "      <td>sourcing</td>\n",
       "      <td>1</td>\n",
       "      <td>24</td>\n",
       "      <td>3.0</td>\n",
       "      <td>1</td>\n",
       "      <td>0</td>\n",
       "      <td>0</td>\n",
       "      <td>61</td>\n",
       "      <td>test</td>\n",
       "    </tr>\n",
       "    <tr>\n",
       "      <th>23486</th>\n",
       "      <td>25600</td>\n",
       "      <td>Technology</td>\n",
       "      <td>region_25</td>\n",
       "      <td>Bachelor's</td>\n",
       "      <td>m</td>\n",
       "      <td>sourcing</td>\n",
       "      <td>1</td>\n",
       "      <td>31</td>\n",
       "      <td>3.0</td>\n",
       "      <td>7</td>\n",
       "      <td>0</td>\n",
       "      <td>0</td>\n",
       "      <td>74</td>\n",
       "      <td>test</td>\n",
       "    </tr>\n",
       "    <tr>\n",
       "      <th>23487</th>\n",
       "      <td>45409</td>\n",
       "      <td>HR</td>\n",
       "      <td>region_16</td>\n",
       "      <td>Bachelor's</td>\n",
       "      <td>f</td>\n",
       "      <td>sourcing</td>\n",
       "      <td>1</td>\n",
       "      <td>26</td>\n",
       "      <td>4.0</td>\n",
       "      <td>4</td>\n",
       "      <td>0</td>\n",
       "      <td>0</td>\n",
       "      <td>50</td>\n",
       "      <td>test</td>\n",
       "    </tr>\n",
       "    <tr>\n",
       "      <th>23488</th>\n",
       "      <td>1186</td>\n",
       "      <td>Procurement</td>\n",
       "      <td>region_31</td>\n",
       "      <td>Bachelor's</td>\n",
       "      <td>m</td>\n",
       "      <td>sourcing</td>\n",
       "      <td>3</td>\n",
       "      <td>27</td>\n",
       "      <td>NaN</td>\n",
       "      <td>1</td>\n",
       "      <td>0</td>\n",
       "      <td>0</td>\n",
       "      <td>70</td>\n",
       "      <td>test</td>\n",
       "    </tr>\n",
       "    <tr>\n",
       "      <th>23489</th>\n",
       "      <td>5973</td>\n",
       "      <td>Technology</td>\n",
       "      <td>region_17</td>\n",
       "      <td>Master's &amp; above</td>\n",
       "      <td>m</td>\n",
       "      <td>other</td>\n",
       "      <td>3</td>\n",
       "      <td>40</td>\n",
       "      <td>5.0</td>\n",
       "      <td>5</td>\n",
       "      <td>1</td>\n",
       "      <td>0</td>\n",
       "      <td>89</td>\n",
       "      <td>test</td>\n",
       "    </tr>\n",
       "  </tbody>\n",
       "</table>\n",
       "<p>78298 rows × 14 columns</p>\n",
       "</div>"
      ],
      "text/plain": [
       "       employee_id         department     region         education gender  \\\n",
       "0            65438  Sales & Marketing   region_7  Master's & above      f   \n",
       "1            65141         Operations  region_22        Bachelor's      m   \n",
       "2             7513  Sales & Marketing  region_19        Bachelor's      m   \n",
       "3             2542  Sales & Marketing  region_23        Bachelor's      m   \n",
       "4            48945         Technology  region_26        Bachelor's      m   \n",
       "...            ...                ...        ...               ...    ...   \n",
       "23485        53478              Legal   region_2   Below Secondary      m   \n",
       "23486        25600         Technology  region_25        Bachelor's      m   \n",
       "23487        45409                 HR  region_16        Bachelor's      f   \n",
       "23488         1186        Procurement  region_31        Bachelor's      m   \n",
       "23489         5973         Technology  region_17  Master's & above      m   \n",
       "\n",
       "      recruitment_channel  no_of_trainings  age  previous_year_rating  \\\n",
       "0                sourcing                1   35                   5.0   \n",
       "1                   other                1   30                   5.0   \n",
       "2                sourcing                1   34                   3.0   \n",
       "3                   other                2   39                   1.0   \n",
       "4                   other                1   45                   3.0   \n",
       "...                   ...              ...  ...                   ...   \n",
       "23485            sourcing                1   24                   3.0   \n",
       "23486            sourcing                1   31                   3.0   \n",
       "23487            sourcing                1   26                   4.0   \n",
       "23488            sourcing                3   27                   NaN   \n",
       "23489               other                3   40                   5.0   \n",
       "\n",
       "       length_of_service  KPIs_met >80%  awards_won?  avg_training_score  \\\n",
       "0                      8              1            0                  49   \n",
       "1                      4              0            0                  60   \n",
       "2                      7              0            0                  50   \n",
       "3                     10              0            0                  50   \n",
       "4                      2              0            0                  73   \n",
       "...                  ...            ...          ...                 ...   \n",
       "23485                  1              0            0                  61   \n",
       "23486                  7              0            0                  74   \n",
       "23487                  4              0            0                  50   \n",
       "23488                  1              0            0                  70   \n",
       "23489                  5              1            0                  89   \n",
       "\n",
       "      is_promoted  \n",
       "0               0  \n",
       "1               0  \n",
       "2               0  \n",
       "3               0  \n",
       "4               0  \n",
       "...           ...  \n",
       "23485        test  \n",
       "23486        test  \n",
       "23487        test  \n",
       "23488        test  \n",
       "23489        test  \n",
       "\n",
       "[78298 rows x 14 columns]"
      ]
     },
     "execution_count": 12,
     "metadata": {},
     "output_type": "execute_result"
    }
   ],
   "source": [
    "combindedhr"
   ]
  },
  {
   "cell_type": "markdown",
   "id": "d108c69f",
   "metadata": {},
   "source": [
    "## Dealing with missing values"
   ]
  },
  {
   "cell_type": "code",
   "execution_count": 14,
   "id": "c230b46a",
   "metadata": {},
   "outputs": [
    {
     "data": {
      "text/plain": [
       "previous_year_rating    5936\n",
       "education               3443\n",
       "employee_id                0\n",
       "department                 0\n",
       "region                     0\n",
       "gender                     0\n",
       "recruitment_channel        0\n",
       "no_of_trainings            0\n",
       "age                        0\n",
       "length_of_service          0\n",
       "KPIs_met >80%              0\n",
       "awards_won?                0\n",
       "avg_training_score         0\n",
       "is_promoted                0\n",
       "dtype: int64"
      ]
     },
     "execution_count": 14,
     "metadata": {},
     "output_type": "execute_result"
    }
   ],
   "source": [
    "combindedhr.isnull().sum().sort_values(ascending=False)"
   ]
  },
  {
   "cell_type": "code",
   "execution_count": 15,
   "id": "bedc0963",
   "metadata": {},
   "outputs": [
    {
     "data": {
      "text/plain": [
       "Bachelor's          52247\n",
       "Master's & above    21429\n",
       "NaN                  3443\n",
       "Below Secondary      1179\n",
       "Name: education, dtype: int64"
      ]
     },
     "execution_count": 15,
     "metadata": {},
     "output_type": "execute_result"
    }
   ],
   "source": [
    "combindedhr.education.value_counts(dropna=False)"
   ]
  },
  {
   "cell_type": "code",
   "execution_count": 16,
   "id": "472349b7",
   "metadata": {},
   "outputs": [],
   "source": [
    "#imputing with most repeated category\n",
    "combindedhr.education=combindedhr.education.fillna(\"Bachelor's\")"
   ]
  },
  {
   "cell_type": "code",
   "execution_count": 17,
   "id": "df651123",
   "metadata": {},
   "outputs": [
    {
     "data": {
      "text/plain": [
       "3.0    26539\n",
       "5.0    16838\n",
       "4.0    14126\n",
       "1.0     8903\n",
       "2.0     5956\n",
       "NaN     5936\n",
       "Name: previous_year_rating, dtype: int64"
      ]
     },
     "execution_count": 17,
     "metadata": {},
     "output_type": "execute_result"
    }
   ],
   "source": [
    "combindedhr.previous_year_rating.value_counts(dropna=False)"
   ]
  },
  {
   "cell_type": "code",
   "execution_count": 21,
   "id": "96f720b5",
   "metadata": {},
   "outputs": [],
   "source": [
    "combindedhr.previous_year_rating=combindedhr.previous_year_rating.fillna(3.0)"
   ]
  },
  {
   "cell_type": "code",
   "execution_count": 35,
   "id": "34d05726",
   "metadata": {},
   "outputs": [
    {
     "name": "stdout",
     "output_type": "stream",
     "text": [
      "(78298, 8)\n",
      "(78298, 6)\n"
     ]
    }
   ],
   "source": [
    "# Split Data into Numeric Columns and Object Columns\n",
    "numericcols=combindedhr.select_dtypes(include=np.number)\n",
    "objectcols=combindedhr.select_dtypes(include=['object'])\n",
    "# np.number will read both float64 and int64\n",
    "print(numericcols.shape)\n",
    "print(objectcols.shape)"
   ]
  },
  {
   "cell_type": "code",
   "execution_count": 43,
   "id": "95c0f0cf",
   "metadata": {},
   "outputs": [
    {
     "data": {
      "text/plain": [
       "Index(['employee_id', 'no_of_trainings', 'age', 'length_of_service',\n",
       "       'avg_training_score', 'is_promoted'],\n",
       "      dtype='object')"
      ]
     },
     "execution_count": 43,
     "metadata": {},
     "output_type": "execute_result"
    }
   ],
   "source": [
    "numericcols.columns\n",
    "# 'previous_year_rating' - 1, 2,3,4,5\n",
    "# 'KPIs_met >80%' - 0(No) & 1(Yes)\n",
    "# 'awards_won?' - 0(No) & 1(Yes)\n",
    "#lets put this in categorical data"
   ]
  },
  {
   "cell_type": "code",
   "execution_count": 44,
   "id": "0f39ad7b",
   "metadata": {},
   "outputs": [
    {
     "data": {
      "text/plain": [
       "Index(['department', 'region', 'education', 'gender', 'recruitment_channel'], dtype='object')"
      ]
     },
     "execution_count": 44,
     "metadata": {},
     "output_type": "execute_result"
    }
   ],
   "source": [
    "objectcols.columns"
   ]
  },
  {
   "cell_type": "code",
   "execution_count": 38,
   "id": "981ee0b2",
   "metadata": {},
   "outputs": [],
   "source": [
    "categorycols=numericcols[['previous_year_rating','KPIs_met >80%', \n",
    "                          'awards_won?']]"
   ]
  },
  {
   "cell_type": "code",
   "execution_count": 39,
   "id": "537c2706",
   "metadata": {},
   "outputs": [],
   "source": [
    "numericcols=numericcols.drop(['previous_year_rating','KPIs_met >80%', \n",
    "                          'awards_won?'],axis=1)"
   ]
  },
  {
   "cell_type": "code",
   "execution_count": 40,
   "id": "cacac659",
   "metadata": {},
   "outputs": [
    {
     "name": "stdout",
     "output_type": "stream",
     "text": [
      "(78298, 6)\n",
      "(78298, 5)\n",
      "(78298, 3)\n"
     ]
    }
   ],
   "source": [
    "print(objectcols.shape)\n",
    "print(numericcols.shape)\n",
    "print(categorycols.shape)"
   ]
  },
  {
   "cell_type": "code",
   "execution_count": 41,
   "id": "06dc5bdd",
   "metadata": {},
   "outputs": [],
   "source": [
    "numericcols['is_promoted']=objectcols.is_promoted"
   ]
  },
  {
   "cell_type": "code",
   "execution_count": 42,
   "id": "178ad691",
   "metadata": {},
   "outputs": [],
   "source": [
    "objectcols=objectcols.drop('is_promoted',axis=1)"
   ]
  },
  {
   "cell_type": "code",
   "execution_count": 45,
   "id": "17ac973a",
   "metadata": {},
   "outputs": [],
   "source": [
    "objectcolsdummy=pd.get_dummies(objectcols,drop_first=True)"
   ]
  },
  {
   "cell_type": "code",
   "execution_count": 46,
   "id": "294da376",
   "metadata": {},
   "outputs": [],
   "source": [
    "categorycolsdummy=pd.get_dummies(categorycols,drop_first=True)"
   ]
  },
  {
   "cell_type": "code",
   "execution_count": 47,
   "id": "71f9b9c6",
   "metadata": {},
   "outputs": [],
   "source": [
    "combindedhrclean=pd.concat([numericcols,objectcolsdummy,categorycolsdummy],\n",
    "                          axis=1)"
   ]
  },
  {
   "cell_type": "code",
   "execution_count": 48,
   "id": "88bb3fd9",
   "metadata": {},
   "outputs": [],
   "source": [
    "# Split Data back to Train & test\n",
    "hrtraindf=combindedhrclean[combindedhrclean.is_promoted!='test']\n",
    "hrtestdf=combindedhrclean[combindedhrclean.is_promoted=='test']"
   ]
  },
  {
   "cell_type": "code",
   "execution_count": 49,
   "id": "f2565877",
   "metadata": {},
   "outputs": [],
   "source": [
    "hrtestdf=hrtestdf.drop('is_promoted',axis=1)"
   ]
  },
  {
   "cell_type": "markdown",
   "id": "d068484d",
   "metadata": {},
   "source": [
    "# Hypothesis testing"
   ]
  },
  {
   "cell_type": "markdown",
   "id": "ded9e2e8",
   "metadata": {},
   "source": [
    "## ttest"
   ]
  },
  {
   "cell_type": "code",
   "execution_count": 50,
   "id": "09a7c9e9",
   "metadata": {},
   "outputs": [],
   "source": [
    "# 1) Test Null Average avg_training_score of is_promoted equal?\n",
    "# 2) Test Null Average length_of_service of is_promoted equal?\n",
    "# groupby(), Null & Alt , split dataframe, ttest_ind, infer"
   ]
  },
  {
   "cell_type": "code",
   "execution_count": 70,
   "id": "651226aa",
   "metadata": {},
   "outputs": [
    {
     "data": {
      "text/plain": [
       "is_promoted\n",
       "0    62.647686\n",
       "1    71.325193\n",
       "Name: avg_training_score, dtype: float64"
      ]
     },
     "execution_count": 70,
     "metadata": {},
     "output_type": "execute_result"
    }
   ],
   "source": [
    "hrtrain.avg_training_score.groupby(hrtrain.is_promoted).mean()"
   ]
  },
  {
   "cell_type": "code",
   "execution_count": 71,
   "id": "dc1788ff",
   "metadata": {},
   "outputs": [
    {
     "data": {
      "text/plain": [
       "is_promoted\n",
       "0    168.791268\n",
       "1    217.448116\n",
       "Name: avg_training_score, dtype: float64"
      ]
     },
     "execution_count": 71,
     "metadata": {},
     "output_type": "execute_result"
    }
   ],
   "source": [
    "hrtrain.avg_training_score.groupby(hrtrain.is_promoted).var()"
   ]
  },
  {
   "cell_type": "code",
   "execution_count": 53,
   "id": "59fda7fb",
   "metadata": {},
   "outputs": [],
   "source": [
    "# Null - There is no Significant difference in Average avg_training_score\n",
    "# of is_promoted 0 & 1.\n",
    "# Alt - There is Significant difference in Average avg_training_score\n",
    "# of is_promoted 0 & 1."
   ]
  },
  {
   "cell_type": "code",
   "execution_count": 72,
   "id": "bb7d4bf3",
   "metadata": {},
   "outputs": [],
   "source": [
    "promotedyes=hrtrain[hrtrain.is_promoted==1]\n",
    "promotedno=hrtrain[hrtrain.is_promoted==0]"
   ]
  },
  {
   "cell_type": "code",
   "execution_count": 73,
   "id": "c63b0c01",
   "metadata": {},
   "outputs": [],
   "source": [
    "from scipy.stats import ttest_ind"
   ]
  },
  {
   "cell_type": "code",
   "execution_count": 74,
   "id": "070306d3",
   "metadata": {},
   "outputs": [
    {
     "data": {
      "text/plain": [
       "Ttest_indResult(statistic=38.82675007357188, pvalue=7.662329172468838e-291)"
      ]
     },
     "execution_count": 74,
     "metadata": {},
     "output_type": "execute_result"
    }
   ],
   "source": [
    "ttest_ind(promotedyes.avg_training_score,promotedno.avg_training_score,\n",
    "         equal_var=False)\n",
    "# Since pvalue=7.662329172468838e-291 is less than 0.05, Reject Null"
   ]
  },
  {
   "cell_type": "code",
   "execution_count": 75,
   "id": "054336ce",
   "metadata": {},
   "outputs": [],
   "source": [
    "# Null - There is no Significant difference in Average length_of_service\n",
    "# of is_promoted 0 & 1.\n",
    "# Alt - There is Significant difference in Average length_of_service\n",
    "# of is_promoted 0 & 1."
   ]
  },
  {
   "cell_type": "code",
   "execution_count": 76,
   "id": "13f50910",
   "metadata": {},
   "outputs": [
    {
     "data": {
      "text/plain": [
       "Ttest_indResult(statistic=-2.6420549711884886, pvalue=0.008262946987836755)"
      ]
     },
     "execution_count": 76,
     "metadata": {},
     "output_type": "execute_result"
    }
   ],
   "source": [
    "ttest_ind(promotedyes.length_of_service,promotedno.length_of_service,\n",
    "         equal_var=False)\n",
    "# Since pvalue=0.008262946987836755 is less than 0.05, Reject Null"
   ]
  },
  {
   "cell_type": "markdown",
   "id": "b9c9c7f2",
   "metadata": {},
   "source": [
    "## Anova test"
   ]
  },
  {
   "cell_type": "code",
   "execution_count": 77,
   "id": "cf54301b",
   "metadata": {},
   "outputs": [],
   "source": [
    "# Test Null Avearge avg_training_score of different previous_year_rating\n",
    "# equal\n",
    "# Test Null Avearge length_of_service of different previous_year_rating\n",
    "# equal\n",
    "# # groupby(), Null & Alt , split dataframe, f_oneway, infer"
   ]
  },
  {
   "cell_type": "code",
   "execution_count": 78,
   "id": "092f951c",
   "metadata": {},
   "outputs": [
    {
     "data": {
      "text/plain": [
       "previous_year_rating\n",
       "1.0    60.064760\n",
       "2.0    61.924024\n",
       "3.0    64.197819\n",
       "4.0    64.119773\n",
       "5.0    63.781364\n",
       "Name: avg_training_score, dtype: float64"
      ]
     },
     "execution_count": 78,
     "metadata": {},
     "output_type": "execute_result"
    }
   ],
   "source": [
    "hrtrain.avg_training_score.groupby(hrtrain.previous_year_rating).mean()"
   ]
  },
  {
   "cell_type": "code",
   "execution_count": 83,
   "id": "413e1390",
   "metadata": {},
   "outputs": [],
   "source": [
    "rating1=hrtrain[hrtrain.previous_year_rating==1]\n",
    "rating2=hrtrain[hrtrain.previous_year_rating==2]\n",
    "rating3=hrtrain[hrtrain.previous_year_rating==3]\n",
    "rating4=hrtrain[hrtrain.previous_year_rating==4]\n",
    "rating5=hrtrain[hrtrain.previous_year_rating==5]"
   ]
  },
  {
   "cell_type": "code",
   "execution_count": 85,
   "id": "7df579a4",
   "metadata": {},
   "outputs": [],
   "source": [
    "from scipy.stats import f_oneway"
   ]
  },
  {
   "cell_type": "code",
   "execution_count": 86,
   "id": "12846dc9",
   "metadata": {},
   "outputs": [
    {
     "data": {
      "text/plain": [
       "F_onewayResult(statistic=137.9606813012624, pvalue=1.7958355662933346e-117)"
      ]
     },
     "execution_count": 86,
     "metadata": {},
     "output_type": "execute_result"
    }
   ],
   "source": [
    "f_oneway(rating1.avg_training_score,rating2.avg_training_score,\n",
    "        rating3.avg_training_score,rating4.avg_training_score,\n",
    "        rating5.avg_training_score)"
   ]
  },
  {
   "cell_type": "code",
   "execution_count": 87,
   "id": "e3ce263b",
   "metadata": {},
   "outputs": [
    {
     "data": {
      "text/plain": [
       "F_onewayResult(statistic=1.4045457184008736, pvalue=0.22955174669633055)"
      ]
     },
     "execution_count": 87,
     "metadata": {},
     "output_type": "execute_result"
    }
   ],
   "source": [
    "f_oneway(rating1.length_of_service,rating2.length_of_service,\n",
    "        rating3.length_of_service,rating4.length_of_service,\n",
    "        rating5.length_of_service)"
   ]
  },
  {
   "cell_type": "markdown",
   "id": "4efe7318",
   "metadata": {},
   "source": [
    "## Chi-square test"
   ]
  },
  {
   "cell_type": "code",
   "execution_count": 88,
   "id": "57003f74",
   "metadata": {},
   "outputs": [],
   "source": [
    "# Test Null No Association between gender and is_promoted\n",
    "# Test Null No Association between recruitment_channel and is_promoted"
   ]
  },
  {
   "cell_type": "code",
   "execution_count": 90,
   "id": "6e8683c5",
   "metadata": {},
   "outputs": [
    {
     "data": {
      "text/html": [
       "<div>\n",
       "<style scoped>\n",
       "    .dataframe tbody tr th:only-of-type {\n",
       "        vertical-align: middle;\n",
       "    }\n",
       "\n",
       "    .dataframe tbody tr th {\n",
       "        vertical-align: top;\n",
       "    }\n",
       "\n",
       "    .dataframe thead th {\n",
       "        text-align: right;\n",
       "    }\n",
       "</style>\n",
       "<table border=\"1\" class=\"dataframe\">\n",
       "  <thead>\n",
       "    <tr style=\"text-align: right;\">\n",
       "      <th>is_promoted</th>\n",
       "      <th>0</th>\n",
       "      <th>1</th>\n",
       "    </tr>\n",
       "    <tr>\n",
       "      <th>gender</th>\n",
       "      <th></th>\n",
       "      <th></th>\n",
       "    </tr>\n",
       "  </thead>\n",
       "  <tbody>\n",
       "    <tr>\n",
       "      <th>f</th>\n",
       "      <td>14845</td>\n",
       "      <td>1467</td>\n",
       "    </tr>\n",
       "    <tr>\n",
       "      <th>m</th>\n",
       "      <td>35295</td>\n",
       "      <td>3201</td>\n",
       "    </tr>\n",
       "  </tbody>\n",
       "</table>\n",
       "</div>"
      ],
      "text/plain": [
       "is_promoted      0     1\n",
       "gender                  \n",
       "f            14845  1467\n",
       "m            35295  3201"
      ]
     },
     "execution_count": 90,
     "metadata": {},
     "output_type": "execute_result"
    }
   ],
   "source": [
    "pd.crosstab(hrtrain.gender,hrtrain.is_promoted)"
   ]
  },
  {
   "cell_type": "code",
   "execution_count": 91,
   "id": "02c1aa69",
   "metadata": {},
   "outputs": [],
   "source": [
    "from scipy.stats import chi2_contingency"
   ]
  },
  {
   "cell_type": "code",
   "execution_count": 92,
   "id": "3001f5d7",
   "metadata": {},
   "outputs": [
    {
     "data": {
      "text/plain": [
       "(6.677254566546107,\n",
       " 0.009765091521176657,\n",
       " 1,\n",
       " array([[14922.70617428, 35217.29382572],\n",
       "        [ 1389.29382572,  3278.70617428]]))"
      ]
     },
     "execution_count": 92,
     "metadata": {},
     "output_type": "execute_result"
    }
   ],
   "source": [
    "chi2_contingency(pd.crosstab(hrtrain.is_promoted,hrtrain.gender))"
   ]
  },
  {
   "cell_type": "markdown",
   "id": "f2a44ef0",
   "metadata": {},
   "source": [
    "## Building model"
   ]
  },
  {
   "cell_type": "code",
   "execution_count": 93,
   "id": "6bd8eece",
   "metadata": {},
   "outputs": [],
   "source": [
    "# Split Data into Dependent Variable(y) and Independent Variables(X)\n",
    "y=hrtraindf.is_promoted\n",
    "X=hrtraindf.drop(['is_promoted','employee_id'],axis=1)"
   ]
  },
  {
   "cell_type": "code",
   "execution_count": 94,
   "id": "999f6f6a",
   "metadata": {},
   "outputs": [],
   "source": [
    "hrtestdf=hrtestdf.drop('employee_id',axis=1)"
   ]
  },
  {
   "cell_type": "code",
   "execution_count": 96,
   "id": "9842a8a3",
   "metadata": {},
   "outputs": [],
   "source": [
    "from sklearn.linear_model import LogisticRegression"
   ]
  },
  {
   "cell_type": "code",
   "execution_count": 97,
   "id": "f0b78783",
   "metadata": {},
   "outputs": [],
   "source": [
    "logistic=LogisticRegression(max_iter=3000)\n",
    "# Convergence Warning means All Coefficients were not Calculated\n",
    "# 1) max_iter=\n",
    "# 2) Scale data using Standard Scaler or Min Max Scaler"
   ]
  },
  {
   "cell_type": "code",
   "execution_count": 105,
   "id": "f848dcf5",
   "metadata": {},
   "outputs": [],
   "source": [
    "from sklearn.preprocessing import LabelEncoder"
   ]
  },
  {
   "cell_type": "code",
   "execution_count": 106,
   "id": "c9ed1501",
   "metadata": {},
   "outputs": [],
   "source": [
    "le=LabelEncoder()"
   ]
  },
  {
   "cell_type": "code",
   "execution_count": 107,
   "id": "c6b7abed",
   "metadata": {},
   "outputs": [],
   "source": [
    "y=le.fit_transform(y)"
   ]
  },
  {
   "cell_type": "code",
   "execution_count": 108,
   "id": "c30b88f4",
   "metadata": {},
   "outputs": [],
   "source": [
    "logisticmodel=logistic.fit(X,y)"
   ]
  },
  {
   "cell_type": "code",
   "execution_count": 109,
   "id": "87a48490",
   "metadata": {},
   "outputs": [
    {
     "data": {
      "text/plain": [
       "0.9318347686469128"
      ]
     },
     "execution_count": 109,
     "metadata": {},
     "output_type": "execute_result"
    }
   ],
   "source": [
    "logisticmodel.score(X,y) # Accuracy - 0.9172 "
   ]
  },
  {
   "cell_type": "code",
   "execution_count": 110,
   "id": "84f18ea5",
   "metadata": {},
   "outputs": [],
   "source": [
    "logisticpredict=logisticmodel.predict(X) # Predicted Class"
   ]
  },
  {
   "cell_type": "code",
   "execution_count": 111,
   "id": "e4ccc1a0",
   "metadata": {},
   "outputs": [
    {
     "data": {
      "text/html": [
       "<div>\n",
       "<style scoped>\n",
       "    .dataframe tbody tr th:only-of-type {\n",
       "        vertical-align: middle;\n",
       "    }\n",
       "\n",
       "    .dataframe tbody tr th {\n",
       "        vertical-align: top;\n",
       "    }\n",
       "\n",
       "    .dataframe thead th {\n",
       "        text-align: right;\n",
       "    }\n",
       "</style>\n",
       "<table border=\"1\" class=\"dataframe\">\n",
       "  <thead>\n",
       "    <tr style=\"text-align: right;\">\n",
       "      <th>col_0</th>\n",
       "      <th>0</th>\n",
       "      <th>1</th>\n",
       "    </tr>\n",
       "    <tr>\n",
       "      <th>row_0</th>\n",
       "      <th></th>\n",
       "      <th></th>\n",
       "    </tr>\n",
       "  </thead>\n",
       "  <tbody>\n",
       "    <tr>\n",
       "      <th>0</th>\n",
       "      <td>49898</td>\n",
       "      <td>242</td>\n",
       "    </tr>\n",
       "    <tr>\n",
       "      <th>1</th>\n",
       "      <td>3494</td>\n",
       "      <td>1174</td>\n",
       "    </tr>\n",
       "  </tbody>\n",
       "</table>\n",
       "</div>"
      ],
      "text/plain": [
       "col_0      0     1\n",
       "row_0             \n",
       "0      49898   242\n",
       "1       3494  1174"
      ]
     },
     "execution_count": 111,
     "metadata": {},
     "output_type": "execute_result"
    }
   ],
   "source": [
    "pd.crosstab(y,logisticpredict) # Confusion matrix\n",
    "# 0 - Negative.  & 1 - Positive\n",
    "# True Negative - 49948\n",
    "# True Positive - 325\n",
    "# False Positive -192\n",
    "# False Negative - 4343"
   ]
  },
  {
   "cell_type": "code",
   "execution_count": 112,
   "id": "0a5942b4",
   "metadata": {},
   "outputs": [
    {
     "data": {
      "text/plain": [
       "0.9172566048752007"
      ]
     },
     "execution_count": 112,
     "metadata": {},
     "output_type": "execute_result"
    }
   ],
   "source": [
    "(49948+325)/(49948+192+4343+325) # (TP+TN)/(TP+FN+FP+TN)"
   ]
  },
  {
   "cell_type": "code",
   "execution_count": 113,
   "id": "1d997c26",
   "metadata": {},
   "outputs": [],
   "source": [
    "from sklearn.metrics import classification_report"
   ]
  },
  {
   "cell_type": "code",
   "execution_count": 114,
   "id": "47c24443",
   "metadata": {},
   "outputs": [
    {
     "name": "stdout",
     "output_type": "stream",
     "text": [
      "              precision    recall  f1-score   support\n",
      "\n",
      "           0       0.93      1.00      0.96     50140\n",
      "           1       0.83      0.25      0.39      4668\n",
      "\n",
      "    accuracy                           0.93     54808\n",
      "   macro avg       0.88      0.62      0.67     54808\n",
      "weighted avg       0.93      0.93      0.91     54808\n",
      "\n"
     ]
    }
   ],
   "source": [
    "print(classification_report(y,logisticpredict))"
   ]
  },
  {
   "cell_type": "code",
   "execution_count": 115,
   "id": "a1614c72",
   "metadata": {},
   "outputs": [],
   "source": [
    "from sklearn.metrics import plot_roc_curve"
   ]
  },
  {
   "cell_type": "code",
   "execution_count": 116,
   "id": "86d9c250",
   "metadata": {},
   "outputs": [
    {
     "data": {
      "text/plain": [
       "<sklearn.metrics._plot.roc_curve.RocCurveDisplay at 0x1ccd2cf3430>"
      ]
     },
     "execution_count": 116,
     "metadata": {},
     "output_type": "execute_result"
    },
    {
     "data": {
      "image/png": "[encoded data removed]",
      "text/plain": [
       "<Figure size 432x288 with 1 Axes>"
      ]
     },
     "metadata": {
      "needs_background": "light"
     },
     "output_type": "display_data"
    }
   ],
   "source": [
    "plot_roc_curve(logistic,X,y) # AUC - 0.81"
   ]
  },
  {
   "cell_type": "code",
   "execution_count": 117,
   "id": "ba844bce",
   "metadata": {},
   "outputs": [],
   "source": [
    "from sklearn.metrics import confusion_matrix"
   ]
  },
  {
   "cell_type": "code",
   "execution_count": 118,
   "id": "68630673",
   "metadata": {},
   "outputs": [
    {
     "data": {
      "text/plain": [
       "array([[49898,   242],\n",
       "       [ 3494,  1174]], dtype=int64)"
      ]
     },
     "execution_count": 118,
     "metadata": {},
     "output_type": "execute_result"
    }
   ],
   "source": [
    "confusion_matrix(y,logisticpredict)"
   ]
  },
  {
   "cell_type": "markdown",
   "id": "ad259bc7",
   "metadata": {},
   "source": [
    "## we got less recall and f1-score.\n",
    "\n",
    "## we need to apply sampling techniques to balance the data"
   ]
  },
  {
   "cell_type": "code",
   "execution_count": 131,
   "id": "24ab27ae",
   "metadata": {},
   "outputs": [],
   "source": [
    "#we are using smote(over sampling technique) to balance the data\n",
    "from imblearn.over_sampling import SMOTE"
   ]
  },
  {
   "cell_type": "code",
   "execution_count": 132,
   "id": "0cb8b219",
   "metadata": {},
   "outputs": [],
   "source": [
    "smote=SMOTE()"
   ]
  },
  {
   "cell_type": "code",
   "execution_count": 133,
   "id": "74ace1c5",
   "metadata": {},
   "outputs": [],
   "source": [
    "X_smote,y_smote=smote.fit_resample(X,y)"
   ]
  },
  {
   "cell_type": "code",
   "execution_count": 134,
   "id": "02370521",
   "metadata": {},
   "outputs": [
    {
     "name": "stdout",
     "output_type": "stream",
     "text": [
      "(54808, 53)\n",
      "(54808,)\n",
      "(100280, 53)\n",
      "(100280,)\n"
     ]
    }
   ],
   "source": [
    "print(X.shape)\n",
    "print(y.shape)\n",
    "print(X_smote.shape)\n",
    "print(y_smote.shape)"
   ]
  },
  {
   "cell_type": "code",
   "execution_count": 155,
   "id": "960c11bd",
   "metadata": {},
   "outputs": [],
   "source": [
    "# Now we can able to see better recall and f1-score"
   ]
  },
  {
   "cell_type": "code",
   "execution_count": 143,
   "id": "42b111c3",
   "metadata": {},
   "outputs": [],
   "source": [
    "# logistic regression"
   ]
  },
  {
   "cell_type": "code",
   "execution_count": 135,
   "id": "93889d57",
   "metadata": {},
   "outputs": [],
   "source": [
    "logit_smote=logistic.fit(X_smote,y_smote)"
   ]
  },
  {
   "cell_type": "code",
   "execution_count": 136,
   "id": "2b5092d5",
   "metadata": {},
   "outputs": [],
   "source": [
    "logit_smote_predict=logit_smote.predict(X_smote)"
   ]
  },
  {
   "cell_type": "code",
   "execution_count": 137,
   "id": "99449d63",
   "metadata": {},
   "outputs": [
    {
     "name": "stdout",
     "output_type": "stream",
     "text": [
      "              precision    recall  f1-score   support\n",
      "\n",
      "           0       0.85      0.92      0.88     50140\n",
      "           1       0.91      0.84      0.87     50140\n",
      "\n",
      "    accuracy                           0.88    100280\n",
      "   macro avg       0.88      0.88      0.88    100280\n",
      "weighted avg       0.88      0.88      0.88    100280\n",
      "\n"
     ]
    }
   ],
   "source": [
    "print(classification_report(y_smote,logit_smote_predict))"
   ]
  },
  {
   "cell_type": "code",
   "execution_count": 138,
   "id": "43ecafea",
   "metadata": {},
   "outputs": [
    {
     "data": {
      "text/html": [
       "<div>\n",
       "<style scoped>\n",
       "    .dataframe tbody tr th:only-of-type {\n",
       "        vertical-align: middle;\n",
       "    }\n",
       "\n",
       "    .dataframe tbody tr th {\n",
       "        vertical-align: top;\n",
       "    }\n",
       "\n",
       "    .dataframe thead th {\n",
       "        text-align: right;\n",
       "    }\n",
       "</style>\n",
       "<table border=\"1\" class=\"dataframe\">\n",
       "  <thead>\n",
       "    <tr style=\"text-align: right;\">\n",
       "      <th>col_0</th>\n",
       "      <th>0</th>\n",
       "      <th>1</th>\n",
       "    </tr>\n",
       "    <tr>\n",
       "      <th>row_0</th>\n",
       "      <th></th>\n",
       "      <th></th>\n",
       "    </tr>\n",
       "  </thead>\n",
       "  <tbody>\n",
       "    <tr>\n",
       "      <th>0</th>\n",
       "      <td>45995</td>\n",
       "      <td>4145</td>\n",
       "    </tr>\n",
       "    <tr>\n",
       "      <th>1</th>\n",
       "      <td>8158</td>\n",
       "      <td>41982</td>\n",
       "    </tr>\n",
       "  </tbody>\n",
       "</table>\n",
       "</div>"
      ],
      "text/plain": [
       "col_0      0      1\n",
       "row_0              \n",
       "0      45995   4145\n",
       "1       8158  41982"
      ]
     },
     "execution_count": 138,
     "metadata": {},
     "output_type": "execute_result"
    }
   ],
   "source": [
    "pd.crosstab(y_smote,logit_smote_predict)"
   ]
  },
  {
   "cell_type": "code",
   "execution_count": 144,
   "id": "54cc669a",
   "metadata": {},
   "outputs": [],
   "source": [
    "# Decision tree classifier"
   ]
  },
  {
   "cell_type": "code",
   "execution_count": 145,
   "id": "d45af025",
   "metadata": {},
   "outputs": [],
   "source": [
    "from sklearn.tree import DecisionTreeClassifier"
   ]
  },
  {
   "cell_type": "code",
   "execution_count": 146,
   "id": "0efab3de",
   "metadata": {},
   "outputs": [],
   "source": [
    "tree=DecisionTreeClassifier(max_depth=20)"
   ]
  },
  {
   "cell_type": "code",
   "execution_count": 147,
   "id": "8f477547",
   "metadata": {},
   "outputs": [],
   "source": [
    "treemodel=tree.fit(X_smote,y_smote)"
   ]
  },
  {
   "cell_type": "code",
   "execution_count": 148,
   "id": "558be534",
   "metadata": {},
   "outputs": [],
   "source": [
    "treepredict=treemodel.predict(X_smote) "
   ]
  },
  {
   "cell_type": "code",
   "execution_count": 149,
   "id": "182f136d",
   "metadata": {},
   "outputs": [
    {
     "name": "stdout",
     "output_type": "stream",
     "text": [
      "              precision    recall  f1-score   support\n",
      "\n",
      "           0       0.98      0.92      0.94     50140\n",
      "           1       0.92      0.98      0.95     50140\n",
      "\n",
      "    accuracy                           0.95    100280\n",
      "   macro avg       0.95      0.95      0.95    100280\n",
      "weighted avg       0.95      0.95      0.95    100280\n",
      "\n"
     ]
    }
   ],
   "source": [
    "print(classification_report(y_smote,treepredict))"
   ]
  },
  {
   "cell_type": "code",
   "execution_count": 150,
   "id": "a05693cc",
   "metadata": {},
   "outputs": [
    {
     "data": {
      "text/html": [
       "<div>\n",
       "<style scoped>\n",
       "    .dataframe tbody tr th:only-of-type {\n",
       "        vertical-align: middle;\n",
       "    }\n",
       "\n",
       "    .dataframe tbody tr th {\n",
       "        vertical-align: top;\n",
       "    }\n",
       "\n",
       "    .dataframe thead th {\n",
       "        text-align: right;\n",
       "    }\n",
       "</style>\n",
       "<table border=\"1\" class=\"dataframe\">\n",
       "  <thead>\n",
       "    <tr style=\"text-align: right;\">\n",
       "      <th>col_0</th>\n",
       "      <th>0</th>\n",
       "      <th>1</th>\n",
       "    </tr>\n",
       "    <tr>\n",
       "      <th>row_0</th>\n",
       "      <th></th>\n",
       "      <th></th>\n",
       "    </tr>\n",
       "  </thead>\n",
       "  <tbody>\n",
       "    <tr>\n",
       "      <th>0</th>\n",
       "      <td>45936</td>\n",
       "      <td>4204</td>\n",
       "    </tr>\n",
       "    <tr>\n",
       "      <th>1</th>\n",
       "      <td>1153</td>\n",
       "      <td>48987</td>\n",
       "    </tr>\n",
       "  </tbody>\n",
       "</table>\n",
       "</div>"
      ],
      "text/plain": [
       "col_0      0      1\n",
       "row_0              \n",
       "0      45936   4204\n",
       "1       1153  48987"
      ]
     },
     "execution_count": 150,
     "metadata": {},
     "output_type": "execute_result"
    }
   ],
   "source": [
    "pd.crosstab(y_smote,treepredict)"
   ]
  },
  {
   "cell_type": "code",
   "execution_count": 151,
   "id": "b0029e6f",
   "metadata": {},
   "outputs": [],
   "source": [
    "#Random forest classifier"
   ]
  },
  {
   "cell_type": "code",
   "execution_count": 152,
   "id": "6b17e4c9",
   "metadata": {},
   "outputs": [],
   "source": [
    "from sklearn.ensemble import RandomForestClassifier"
   ]
  },
  {
   "cell_type": "code",
   "execution_count": 153,
   "id": "f63f7534",
   "metadata": {},
   "outputs": [],
   "source": [
    "RF=RandomForestClassifier(n_estimators=2000,max_depth=20)"
   ]
  },
  {
   "cell_type": "code",
   "execution_count": 154,
   "id": "d996ac3f",
   "metadata": {},
   "outputs": [],
   "source": [
    "RFmodel=RF.fit(X_smote,y_smote)"
   ]
  },
  {
   "cell_type": "code",
   "execution_count": 156,
   "id": "42966c17",
   "metadata": {},
   "outputs": [],
   "source": [
    "RFpredict=RFmodel.predict(X_smote)"
   ]
  },
  {
   "cell_type": "code",
   "execution_count": 157,
   "id": "c9366631",
   "metadata": {},
   "outputs": [
    {
     "name": "stdout",
     "output_type": "stream",
     "text": [
      "              precision    recall  f1-score   support\n",
      "\n",
      "           0       0.99      0.92      0.95     50140\n",
      "           1       0.93      0.99      0.96     50140\n",
      "\n",
      "    accuracy                           0.96    100280\n",
      "   macro avg       0.96      0.96      0.96    100280\n",
      "weighted avg       0.96      0.96      0.96    100280\n",
      "\n"
     ]
    }
   ],
   "source": [
    "print(classification_report(y_smote,RFpredict))"
   ]
  },
  {
   "cell_type": "code",
   "execution_count": 158,
   "id": "b2944bf9",
   "metadata": {},
   "outputs": [],
   "source": [
    "#xgboost classifier"
   ]
  },
  {
   "cell_type": "code",
   "execution_count": 160,
   "id": "1cfe5821",
   "metadata": {},
   "outputs": [
    {
     "name": "stdout",
     "output_type": "stream",
     "text": [
      "Collecting xgboost\n",
      "  Downloading xgboost-1.5.1-py3-none-win_amd64.whl (106.6 MB)\n",
      "Requirement already satisfied: scipy in c:\\users\\srava\\anaconda\\lib\\site-packages (from xgboost) (1.7.1)\n",
      "Requirement already satisfied: numpy in c:\\users\\srava\\anaconda\\lib\\site-packages (from xgboost) (1.20.3)\n",
      "Installing collected packages: xgboost\n",
      "Successfully installed xgboost-1.5.1\n",
      "Note: you may need to restart the kernel to use updated packages.\n"
     ]
    }
   ],
   "source": [
    "pip install xgboost"
   ]
  },
  {
   "cell_type": "code",
   "execution_count": 161,
   "id": "eafdf4ce",
   "metadata": {},
   "outputs": [],
   "source": [
    "from xgboost import XGBClassifier"
   ]
  },
  {
   "cell_type": "code",
   "execution_count": 162,
   "id": "2f2b2dbf",
   "metadata": {},
   "outputs": [],
   "source": [
    "xgmodel=XGBClassifier()"
   ]
  },
  {
   "cell_type": "code",
   "execution_count": 165,
   "id": "d6853680",
   "metadata": {},
   "outputs": [
    {
     "name": "stdout",
     "output_type": "stream",
     "text": [
      "[21:06:18] WARNING: C:/Users/Administrator/workspace/xgboost-win64_release_1.5.1/src/learner.cc:1115: Starting in XGBoost 1.3.0, the default evaluation metric used with the objective 'binary:logistic' was changed from 'error' to 'logloss'. Explicitly set eval_metric if you'd like to restore the old behavior.\n"
     ]
    }
   ],
   "source": [
    "model=xgmodel.fit(X_smote,y_smote)"
   ]
  },
  {
   "cell_type": "code",
   "execution_count": 166,
   "id": "bb93999e",
   "metadata": {},
   "outputs": [],
   "source": [
    "xgpredict=model.predict(X_smote)"
   ]
  },
  {
   "cell_type": "code",
   "execution_count": 167,
   "id": "e51a7aca",
   "metadata": {},
   "outputs": [
    {
     "name": "stdout",
     "output_type": "stream",
     "text": [
      "              precision    recall  f1-score   support\n",
      "\n",
      "           0       0.93      0.96      0.95     50140\n",
      "           1       0.96      0.93      0.95     50140\n",
      "\n",
      "    accuracy                           0.95    100280\n",
      "   macro avg       0.95      0.95      0.95    100280\n",
      "weighted avg       0.95      0.95      0.95    100280\n",
      "\n"
     ]
    }
   ],
   "source": [
    "print(classification_report(y_smote,xgpredict))"
   ]
  },
  {
   "cell_type": "code",
   "execution_count": 168,
   "id": "fc6f8381",
   "metadata": {},
   "outputs": [],
   "source": [
    "# we got good score with xgboost"
   ]
  },
  {
   "cell_type": "code",
   "execution_count": 169,
   "id": "e42cb4d7",
   "metadata": {},
   "outputs": [],
   "source": [
    "#lets predict the test data with xgboost model"
   ]
  },
  {
   "cell_type": "code",
   "execution_count": 171,
   "id": "31cb7f1c",
   "metadata": {},
   "outputs": [],
   "source": [
    "test_predict=model.predict(hrtestdf)"
   ]
  },
  {
   "cell_type": "code",
   "execution_count": 172,
   "id": "8b461a74",
   "metadata": {},
   "outputs": [
    {
     "data": {
      "text/plain": [
       "array([0, 0, 0, ..., 0, 0, 1])"
      ]
     },
     "execution_count": 172,
     "metadata": {},
     "output_type": "execute_result"
    }
   ],
   "source": [
    "test_predict"
   ]
  },
  {
   "cell_type": "code",
   "execution_count": 173,
   "id": "cc57e1ee",
   "metadata": {},
   "outputs": [],
   "source": [
    "## combine this column to test data"
   ]
  },
  {
   "cell_type": "code",
   "execution_count": 176,
   "id": "7586c119",
   "metadata": {},
   "outputs": [],
   "source": [
    "hrtest[\"is_promoted\"]=test_predict"
   ]
  },
  {
   "cell_type": "code",
   "execution_count": 178,
   "id": "c0c6f363",
   "metadata": {},
   "outputs": [
    {
     "data": {
      "text/html": [
       "<div>\n",
       "<style scoped>\n",
       "    .dataframe tbody tr th:only-of-type {\n",
       "        vertical-align: middle;\n",
       "    }\n",
       "\n",
       "    .dataframe tbody tr th {\n",
       "        vertical-align: top;\n",
       "    }\n",
       "\n",
       "    .dataframe thead th {\n",
       "        text-align: right;\n",
       "    }\n",
       "</style>\n",
       "<table border=\"1\" class=\"dataframe\">\n",
       "  <thead>\n",
       "    <tr style=\"text-align: right;\">\n",
       "      <th></th>\n",
       "      <th>employee_id</th>\n",
       "      <th>department</th>\n",
       "      <th>region</th>\n",
       "      <th>education</th>\n",
       "      <th>gender</th>\n",
       "      <th>recruitment_channel</th>\n",
       "      <th>no_of_trainings</th>\n",
       "      <th>age</th>\n",
       "      <th>previous_year_rating</th>\n",
       "      <th>length_of_service</th>\n",
       "      <th>KPIs_met &gt;80%</th>\n",
       "      <th>awards_won?</th>\n",
       "      <th>avg_training_score</th>\n",
       "      <th>is_promoted</th>\n",
       "    </tr>\n",
       "  </thead>\n",
       "  <tbody>\n",
       "    <tr>\n",
       "      <th>0</th>\n",
       "      <td>8724</td>\n",
       "      <td>Technology</td>\n",
       "      <td>region_26</td>\n",
       "      <td>Bachelor's</td>\n",
       "      <td>m</td>\n",
       "      <td>sourcing</td>\n",
       "      <td>1</td>\n",
       "      <td>24</td>\n",
       "      <td>NaN</td>\n",
       "      <td>1</td>\n",
       "      <td>1</td>\n",
       "      <td>0</td>\n",
       "      <td>77</td>\n",
       "      <td>0</td>\n",
       "    </tr>\n",
       "    <tr>\n",
       "      <th>1</th>\n",
       "      <td>74430</td>\n",
       "      <td>HR</td>\n",
       "      <td>region_4</td>\n",
       "      <td>Bachelor's</td>\n",
       "      <td>f</td>\n",
       "      <td>other</td>\n",
       "      <td>1</td>\n",
       "      <td>31</td>\n",
       "      <td>3.0</td>\n",
       "      <td>5</td>\n",
       "      <td>0</td>\n",
       "      <td>0</td>\n",
       "      <td>51</td>\n",
       "      <td>0</td>\n",
       "    </tr>\n",
       "    <tr>\n",
       "      <th>2</th>\n",
       "      <td>72255</td>\n",
       "      <td>Sales &amp; Marketing</td>\n",
       "      <td>region_13</td>\n",
       "      <td>Bachelor's</td>\n",
       "      <td>m</td>\n",
       "      <td>other</td>\n",
       "      <td>1</td>\n",
       "      <td>31</td>\n",
       "      <td>1.0</td>\n",
       "      <td>4</td>\n",
       "      <td>0</td>\n",
       "      <td>0</td>\n",
       "      <td>47</td>\n",
       "      <td>0</td>\n",
       "    </tr>\n",
       "    <tr>\n",
       "      <th>3</th>\n",
       "      <td>38562</td>\n",
       "      <td>Procurement</td>\n",
       "      <td>region_2</td>\n",
       "      <td>Bachelor's</td>\n",
       "      <td>f</td>\n",
       "      <td>other</td>\n",
       "      <td>3</td>\n",
       "      <td>31</td>\n",
       "      <td>2.0</td>\n",
       "      <td>9</td>\n",
       "      <td>0</td>\n",
       "      <td>0</td>\n",
       "      <td>65</td>\n",
       "      <td>0</td>\n",
       "    </tr>\n",
       "    <tr>\n",
       "      <th>4</th>\n",
       "      <td>64486</td>\n",
       "      <td>Finance</td>\n",
       "      <td>region_29</td>\n",
       "      <td>Bachelor's</td>\n",
       "      <td>m</td>\n",
       "      <td>sourcing</td>\n",
       "      <td>1</td>\n",
       "      <td>30</td>\n",
       "      <td>4.0</td>\n",
       "      <td>7</td>\n",
       "      <td>0</td>\n",
       "      <td>0</td>\n",
       "      <td>61</td>\n",
       "      <td>0</td>\n",
       "    </tr>\n",
       "  </tbody>\n",
       "</table>\n",
       "</div>"
      ],
      "text/plain": [
       "   employee_id         department     region   education gender  \\\n",
       "0         8724         Technology  region_26  Bachelor's      m   \n",
       "1        74430                 HR   region_4  Bachelor's      f   \n",
       "2        72255  Sales & Marketing  region_13  Bachelor's      m   \n",
       "3        38562        Procurement   region_2  Bachelor's      f   \n",
       "4        64486            Finance  region_29  Bachelor's      m   \n",
       "\n",
       "  recruitment_channel  no_of_trainings  age  previous_year_rating  \\\n",
       "0            sourcing                1   24                   NaN   \n",
       "1               other                1   31                   3.0   \n",
       "2               other                1   31                   1.0   \n",
       "3               other                3   31                   2.0   \n",
       "4            sourcing                1   30                   4.0   \n",
       "\n",
       "   length_of_service  KPIs_met >80%  awards_won?  avg_training_score  \\\n",
       "0                  1              1            0                  77   \n",
       "1                  5              0            0                  51   \n",
       "2                  4              0            0                  47   \n",
       "3                  9              0            0                  65   \n",
       "4                  7              0            0                  61   \n",
       "\n",
       "   is_promoted  \n",
       "0            0  \n",
       "1            0  \n",
       "2            0  \n",
       "3            0  \n",
       "4            0  "
      ]
     },
     "execution_count": 178,
     "metadata": {},
     "output_type": "execute_result"
    }
   ],
   "source": [
    "# Now our model able to predict whether the employee going to promote or not\n",
    "hrtest.head()"
   ]
  },
  {
   "cell_type": "code",
   "execution_count": null,
   "id": "431ce55c",
   "metadata": {},
   "outputs": [],
   "source": []
  }
 ],
 "metadata": {
  "kernelspec": {
   "display_name": "Python 3",
   "language": "python",
   "name": "python3"
  },
  "language_info": {
   "codemirror_mode": {
    "name": "ipython",
    "version": 3
   },
   "file_extension": ".py",
   "mimetype": "text/x-python",
   "name": "python",
   "nbconvert_exporter": "python",
   "pygments_lexer": "ipython3",
   "version": "3.8.8"
  }
 },
 "nbformat": 4,
 "nbformat_minor": 5
}
